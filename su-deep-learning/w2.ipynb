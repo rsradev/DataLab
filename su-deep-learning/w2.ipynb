{
 "cells": [
  {
   "cell_type": "markdown",
   "metadata": {},
   "source": [
    "1. Day one -> nlp + js\n",
    "2. Day two -> dl + net\n",
    "3. Day three -> de + net"
   ]
  },
  {
   "cell_type": "markdown",
   "metadata": {},
   "source": [
    "TASK 1"
   ]
  },
  {
   "cell_type": "code",
   "execution_count": 1,
   "metadata": {},
   "outputs": [],
   "source": [
    "class Value:\n",
    "    def __init__(self, value: float, _prev=None):\n",
    "        self.value = value\n",
    "\n",
    "        self._prev = _prev if _prev is not None else set()\n",
    "    \n",
    "    def __repr__(self):\n",
    "        return f'Value(data={self.value})'\n",
    "    \n",
    "    def __hash__(self):\n",
    "        return id(self)\n",
    "     \n",
    "    def __add__(self, other) -> float:\n",
    "        if isinstance(other, Value):\n",
    "            return Value(self.value + other.value, _prev={self, other})\n",
    "        return Value(self.value + other, _prev={self})\n",
    "    \n",
    "    def __mul__(self, other) -> float:\n",
    "        if isinstance(other, Value):\n",
    "            return Value(self.value * other.value, _prev={self, other})\n",
    "        return Value(self.value * other, _prev={self})\n",
    "    \n",
    "    def __truediv__(self, other) -> float:\n",
    "        if isinstance(other, Value):\n",
    "            return Value(self.value / other.value, _prev={self, other})\n",
    "        return Value(self.value / other, _prev={self})\n",
    "    \n",
    "def trace(v: Value):\n",
    "    nodes = set()\n",
    "    edges = set()\n",
    "    \n",
    "\n",
    "    def create_graph(node: Value):\n",
    "        if node not in nodes:\n",
    "            nodes.add(node)\n",
    "            for n in node._prev:\n",
    "                edges.add((n, node))\n",
    "                create_graph(n)\n",
    "\n",
    "    create_graph(v)\n",
    "    return nodes, edges\n",
    "    "
   ]
  },
  {
   "cell_type": "markdown",
   "metadata": {},
   "source": []
  },
  {
   "cell_type": "code",
   "execution_count": 122,
   "metadata": {},
   "outputs": [],
   "source": [
    "def main() -> None:\n",
    "    x = Value(2.0)\n",
    "    y = Value(-3.0)\n",
    "    z = Value(10.0)\n",
    "    result = x * y + z\n",
    "    \n",
    "    nodes, edges = trace(x)\n",
    "    print('x')\n",
    "    print(f'{nodes=}')\n",
    "    print(f'{edges=}')\n",
    "    \n",
    "    nodes, edges = trace(y)\n",
    "    print('y')\n",
    "    print(f'{nodes=}')\n",
    "    print(f'{edges=}')\n",
    "    \n",
    "    nodes, edges = trace(z)\n",
    "    print('z')\n",
    "    print(f'{nodes=}')\n",
    "    print(f'{edges=}')\n",
    "    \n",
    "    nodes, edges = trace(result)\n",
    "    print('result')\n",
    "    print(f'{nodes=}')\n",
    "    print(f'{edges=}')"
   ]
  },
  {
   "cell_type": "code",
   "execution_count": 123,
   "metadata": {},
   "outputs": [
    {
     "name": "stdout",
     "output_type": "stream",
     "text": [
      "x\n",
      "nodes={Value(data=2.0)}\n",
      "edges=set()\n",
      "y\n",
      "nodes={Value(data=-3.0)}\n",
      "edges=set()\n",
      "z\n",
      "nodes={Value(data=10.0)}\n",
      "edges=set()\n",
      "result\n",
      "nodes={Value(data=-6.0), Value(data=4.0), Value(data=10.0), Value(data=2.0), Value(data=-3.0)}\n",
      "edges={(Value(data=-3.0), Value(data=-6.0)), (Value(data=-6.0), Value(data=4.0)), (Value(data=10.0), Value(data=4.0)), (Value(data=2.0), Value(data=-6.0))}\n"
     ]
    }
   ],
   "source": [
    "main()"
   ]
  },
  {
   "cell_type": "code",
   "execution_count": 60,
   "metadata": {},
   "outputs": [],
   "source": [
    "b = Value(3.14)\n",
    "c = Value(3)"
   ]
  },
  {
   "cell_type": "code",
   "execution_count": 61,
   "metadata": {},
   "outputs": [
    {
     "data": {
      "text/plain": [
       "6.140000000000001"
      ]
     },
     "execution_count": 61,
     "metadata": {},
     "output_type": "execute_result"
    }
   ],
   "source": [
    "b + c"
   ]
  },
  {
   "cell_type": "code",
   "execution_count": 34,
   "metadata": {},
   "outputs": [
    {
     "name": "stdout",
     "output_type": "stream",
     "text": [
      "3.14\n"
     ]
    }
   ],
   "source": [
    "print(Value(3.14).value)"
   ]
  },
  {
   "cell_type": "code",
   "execution_count": null,
   "metadata": {},
   "outputs": [
    {
     "data": {
      "text/plain": [
       "3.14"
      ]
     },
     "execution_count": 19,
     "metadata": {},
     "output_type": "execute_result"
    }
   ],
   "source": []
  }
 ],
 "metadata": {
  "kernelspec": {
   "display_name": "3.13.2",
   "language": "python",
   "name": "python3"
  },
  "language_info": {
   "codemirror_mode": {
    "name": "ipython",
    "version": 3
   },
   "file_extension": ".py",
   "mimetype": "text/x-python",
   "name": "python",
   "nbconvert_exporter": "python",
   "pygments_lexer": "ipython3",
   "version": "3.13.2"
  }
 },
 "nbformat": 4,
 "nbformat_minor": 2
}

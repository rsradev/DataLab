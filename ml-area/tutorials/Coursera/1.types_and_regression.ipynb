{
 "cells": [
  {
   "cell_type": "markdown",
   "metadata": {},
   "source": [
    "1. Supervised(examples with given 'right answers')\n",
    "    * Regression\n",
    "        - Predict a number\n",
    "            *  y - > output -> target based on x\n",
    "            * x -> input -> feature\n",
    "            * m -> number of traingin examples\n",
    "            *  $ f_ (function -> model) $\n",
    "            *  $ \\hat{y} $ -> prediction(estimated value of y)\n",
    "            * b - bias\n",
    "            * w - weight\n",
    "        - infinitely possible outputs\n",
    "    * Classification - cat/dog, begning vs malignant(most of the time non-numeric)\n",
    "        -  predict categories\n",
    "        -  small number of possible outputs\n",
    "2. Usupervised learning(algorithm find structure)\n",
    "    * clustering\n",
    "        - group similar data points together\n",
    "        -\n",
    "    * Anomaly detection\n",
    "        - find unusual data points \n",
    "    * dimensionality reduction\n",
    "        - compress data using fewer numbers\n",
    "    \n"
   ]
  },
  {
   "cell_type": "markdown",
   "metadata": {},
   "source": [
    "* Linear regression\n",
    "    * Training set -> set for training the model\n",
    "        * x -> input | feature\n",
    "        * Y -> output | target\n",
    "        * m -> number of training examples\n",
    "        * single training example -> (x,y)"
   ]
  },
  {
   "cell_type": "markdown",
   "metadata": {},
   "source": [
    "Cost function: Squared error cost function\n",
    "\n",
    "$ J_{(w,b)} =  \\dfrac{1}{2m} \\sum\\limits_{i=1}^{m}  ( \\hat{y}^{(i)}- y^{(i)} )^{2}  \\\\\n",
    "    \\qquad \\qquad \\qquad \\qquad error $\n",
    "\n",
    "$ J_{(w,b)} =  \\dfrac{1}{2m} \\sum\\limits_{i=1}^{m}  ( f_{w,b}(x^{(i)}) - y^{(i)} )^{2}  \\\\\n",
    "    \\qquad \\qquad \\qquad \\qquad error $\n",
    "\n",
    "$ f_{w,b}(x^{(i)}) = wx^{(i)} + b$"
   ]
  },
  {
   "cell_type": "code",
   "execution_count": null,
   "metadata": {},
   "outputs": [],
   "source": [
    "def compute_cost(x, y, w, b): \n",
    "    \"\"\"\n",
    "    Computes the cost function for linear regression.\n",
    "    \n",
    "    Args:\n",
    "      x (ndarray (m,)): Data, m examples \n",
    "      y (ndarray (m,)): target values\n",
    "      w,b (scalar)    : model parameters  \n",
    "    \n",
    "    Returns\n",
    "        total_cost (float): The cost of using w,b as the parameters for linear regression\n",
    "               to fit the data points in x and y\n",
    "    \"\"\"\n",
    "    # number of training examples\n",
    "    m = x.shape[0] \n",
    "    cost_sum = 0 \n",
    "    \n",
    "    for i in range(m): \n",
    "        f_wb = w * x[i] + b   \n",
    "        cost = (f_wb - y[i]) ** 2  \n",
    "        cost_sum = cost_sum + cost  \n",
    "    total_cost = (1 / (2 * m)) * cost_sum  \n",
    "\n",
    "    return total_cost"
   ]
  }
 ],
 "metadata": {
  "kernelspec": {
   "display_name": "3.13.1",
   "language": "python",
   "name": "python3"
  },
  "language_info": {
   "codemirror_mode": {
    "name": "ipython",
    "version": 3
   },
   "file_extension": ".py",
   "mimetype": "text/x-python",
   "name": "python",
   "nbconvert_exporter": "python",
   "pygments_lexer": "ipython3",
   "version": "3.13.1"
  },
  "orig_nbformat": 4
 },
 "nbformat": 4,
 "nbformat_minor": 2
}

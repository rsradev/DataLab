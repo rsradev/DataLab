{
 "cells": [
  {
   "cell_type": "markdown",
   "metadata": {},
   "source": [
    "#### Types of data:\n",
    "* Numerical\n",
    "  * discrete -> count of something(measurable)\n",
    "  * continuous -> height of people(infinite possibilities) \n",
    "* Categorical\n",
    "  * quality(gender, nationality, race etc)\n",
    "* Ordinal\n",
    "  * mixture (star rating for movie)"
   ]
  },
  {
   "cell_type": "markdown",
   "metadata": {},
   "source": [
    "* mean -> average\n",
    "* median -> middle of sorted values\n",
    "* mode -> most common data value "
   ]
  },
  {
   "cell_type": "markdown",
   "metadata": {},
   "source": [
    "$ Variance (\\sigma^{(2)}) $ -> the average of the squared differences from the mean "
   ]
  },
  {
   "cell_type": "code",
   "execution_count": 2,
   "metadata": {},
   "outputs": [
    {
     "data": {
      "text/plain": [
       "11.559999999999999"
      ]
     },
     "execution_count": 2,
     "metadata": {},
     "output_type": "execute_result"
    }
   ],
   "source": [
    "3.4 ** 2"
   ]
  }
 ],
 "metadata": {
  "kernelspec": {
   "display_name": "3.13.1",
   "language": "python",
   "name": "python3"
  },
  "language_info": {
   "codemirror_mode": {
    "name": "ipython",
    "version": 3
   },
   "file_extension": ".py",
   "mimetype": "text/x-python",
   "name": "python",
   "nbconvert_exporter": "python",
   "pygments_lexer": "ipython3",
   "version": "3.13.1"
  }
 },
 "nbformat": 4,
 "nbformat_minor": 2
}

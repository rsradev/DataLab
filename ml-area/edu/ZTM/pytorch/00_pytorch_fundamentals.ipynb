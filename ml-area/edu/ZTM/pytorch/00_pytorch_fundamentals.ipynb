{
 "cells": [
  {
   "cell_type": "markdown",
   "id": "cbd668f0",
   "metadata": {},
   "source": [
    "1. Math(30), ML(30), DL(1) NLP(1)\n",
    "2. JS(30), Net(30), DE(30)\n"
   ]
  },
  {
   "cell_type": "code",
   "execution_count": 32,
   "id": "634eac15",
   "metadata": {},
   "outputs": [
    {
     "name": "stdout",
     "output_type": "stream",
     "text": [
      "2.6.0\n"
     ]
    }
   ],
   "source": [
    "\n",
    "import pprint\n",
    "import torch\n",
    "import pandas as pd\n",
    "import numpy as np\n",
    "import matplotlib.pyplot as plt\n",
    "print(torch.__version__)"
   ]
  },
  {
   "cell_type": "code",
   "execution_count": 33,
   "id": "64b79c96",
   "metadata": {},
   "outputs": [
    {
     "name": "stdout",
     "output_type": "stream",
     "text": [
      "tensor([1.], device='mps:0')\n"
     ]
    }
   ],
   "source": [
    "if torch.backends.mps.is_available():\n",
    "    mps_device = torch.device(\"mps\")\n",
    "    x = torch.ones(1, device=mps_device)\n",
    "    print (x)\n",
    "else:\n",
    "    print (\"MPS device not found.\")"
   ]
  },
  {
   "cell_type": "markdown",
   "id": "7183d711",
   "metadata": {},
   "source": [
    "### Introduction to tensors\n",
    "\n",
    "Creating tensor"
   ]
  },
  {
   "cell_type": "code",
   "execution_count": 34,
   "id": "03548f5e",
   "metadata": {},
   "outputs": [
    {
     "data": {
      "text/plain": [
       "tensor(12)"
      ]
     },
     "execution_count": 34,
     "metadata": {},
     "output_type": "execute_result"
    }
   ],
   "source": [
    "# scalar\n",
    "\n",
    "scalar = torch.tensor(12)\n",
    "\n",
    "scalar"
   ]
  },
  {
   "cell_type": "code",
   "execution_count": 35,
   "id": "fbf6c7ea",
   "metadata": {},
   "outputs": [
    {
     "name": "stdout",
     "output_type": "stream",
     "text": [
      "Scalar's \n",
      " shape:torch.Size([]) \n",
      " dimensions: 0\n"
     ]
    }
   ],
   "source": [
    "print(f\"Scalar's \\n shape:{scalar.shape} \\n dimensions: {scalar.ndim}\")"
   ]
  },
  {
   "cell_type": "code",
   "execution_count": 36,
   "id": "74f8019f",
   "metadata": {},
   "outputs": [
    {
     "name": "stdout",
     "output_type": "stream",
     "text": [
      "Vector's \n",
      "shape:torch.Size([3]) \n",
      " dimensions: 1\n"
     ]
    }
   ],
   "source": [
    "vector = torch.tensor([1,2,3])\n",
    "print(f\"Vector's \\nshape:{vector.shape} \\n dimensions: {vector.ndim}\")\n",
    "#magnitude a.k.a len direction 1..5 or -1...-5 left or right"
   ]
  },
  {
   "cell_type": "code",
   "execution_count": 37,
   "id": "40b01dac",
   "metadata": {},
   "outputs": [
    {
     "name": "stdout",
     "output_type": "stream",
     "text": [
      "MATRIX's \n",
      " shape:torch.Size([2, 2]) \n",
      " dimensions: 2\n"
     ]
    }
   ],
   "source": [
    "# MATRIX\n",
    "\n",
    "MATRIX = torch.tensor([\n",
    "    [7,8], \n",
    "    [9,10]\n",
    "])\n",
    "print(f\"MATRIX's \\n shape:{MATRIX.shape} \\n dimensions: {MATRIX.ndim}\")"
   ]
  },
  {
   "cell_type": "code",
   "execution_count": 39,
   "id": "2380c0c1",
   "metadata": {},
   "outputs": [
    {
     "data": {
      "text/plain": [
       "7300"
      ]
     },
     "execution_count": 39,
     "metadata": {},
     "output_type": "execute_result"
    }
   ],
   "source": [
    "20 * 365"
   ]
  },
  {
   "cell_type": "code",
   "execution_count": 38,
   "id": "daaf97ac",
   "metadata": {},
   "outputs": [
    {
     "name": "stdout",
     "output_type": "stream",
     "text": [
      "TENSOR's \n",
      " shape:torch.Size([1, 2, 3]) \n",
      " dimensions: 3\n"
     ]
    }
   ],
   "source": [
    "TENSOR = torch.tensor([[\n",
    "    [12,34,53], [32,43,23]\n",
    "]])\n",
    "print(f\"TENSOR's \\n shape:{TENSOR.shape} \\n dimensions: {TENSOR.ndim}\")"
   ]
  },
  {
   "cell_type": "code",
   "execution_count": 1,
   "id": "9b43ede4",
   "metadata": {},
   "outputs": [],
   "source": [
    "#### Random tensors\n"
   ]
  }
 ],
 "metadata": {
  "kernelspec": {
   "display_name": "3.13.1",
   "language": "python",
   "name": "python3"
  },
  "language_info": {
   "codemirror_mode": {
    "name": "ipython",
    "version": 3
   },
   "file_extension": ".py",
   "mimetype": "text/x-python",
   "name": "python",
   "nbconvert_exporter": "python",
   "pygments_lexer": "ipython3",
   "version": "3.13.1"
  }
 },
 "nbformat": 4,
 "nbformat_minor": 5
}

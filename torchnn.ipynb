{
 "cells": [
  {
   "cell_type": "code",
   "execution_count": 14,
   "id": "8ec3358c",
   "metadata": {},
   "outputs": [
    {
     "name": "stdout",
     "output_type": "stream",
     "text": [
      "Collecting loguru\n",
      "  Downloading loguru-0.7.3-py3-none-any.whl.metadata (22 kB)\n",
      "Downloading loguru-0.7.3-py3-none-any.whl (61 kB)\n",
      "Installing collected packages: loguru\n",
      "Successfully installed loguru-0.7.3\n",
      "Note: you may need to restart the kernel to use updated packages.\n"
     ]
    }
   ],
   "source": [
    "pip install loguru"
   ]
  },
  {
   "cell_type": "code",
   "execution_count": 20,
   "id": "db0e23b4",
   "metadata": {},
   "outputs": [
    {
     "name": "stderr",
     "output_type": "stream",
     "text": [
      "\u001b[32m2025-04-07 19:54:19.220\u001b[0m | \u001b[1mINFO    \u001b[0m | \u001b[36m__main__\u001b[0m:\u001b[36m<module>\u001b[0m:\u001b[36m47\u001b[0m - \u001b[1mtensor(9, device='mps:0')\u001b[0m\n"
     ]
    }
   ],
   "source": [
    "import torch\n",
    "from PIL import Image\n",
    "\n",
    "from torch import nn, save, load\n",
    "from torch.optim import Adam    \n",
    "from torch.utils.data import DataLoader\n",
    "from torchvision import datasets\n",
    "from torchvision.transforms import ToTensor\n",
    "from loguru import logger\n",
    "\n",
    "\n",
    "train = datasets.MNIST(\n",
    "    root='data',\n",
    "    download=True,\n",
    "    train=True,\n",
    "    transform=ToTensor()\n",
    ")\n",
    "datasets = DataLoader(train, 32)\n",
    "\n",
    "class ImageClassifier(nn.Module):\n",
    "    def __init__(self) -> None:\n",
    "        super().__init__()\n",
    "        self.model = nn.Sequential(\n",
    "            nn.Conv2d(1, 32, (3,3)),\n",
    "            nn.ReLU(),\n",
    "            nn.Conv2d(32, 64,(3,3)),\n",
    "            nn.ReLU(),\n",
    "            nn.Conv2d(64, 64,(3,3)),\n",
    "            nn.ReLU(),\n",
    "            nn.Flatten(),\n",
    "            nn.Linear(64*(28-6) * (28 - 6), 10)\n",
    "        )\n",
    "\n",
    "    def forward(self, x):\n",
    "        return self.model(x)\n",
    "    \n",
    "clf = ImageClassifier().to('mps')\n",
    "opt = Adam(clf.parameters(), lr=1e-3)\n",
    "\n",
    "loss_function = nn.CrossEntropyLoss()\n",
    "\n",
    "if __name__ == '__main__':\n",
    "    with open('model_state.pt', 'rb') as f:\n",
    "        clf.load_state_dict(load(f))\n",
    "    img = ToTensor()(Image.open('img_3.jpg')).unsqueeze(0).to('mps')\n",
    "\n",
    "    logger.info(torch.argmax(clf(img)))\n",
    "    # for epoch in range(10):\n",
    "    #     for batch in datasets:\n",
    "    #         X,y = batch\n",
    "    #         X,y = X.to('mps'), y.to('mps')\n",
    "    #         yhat = clf(X)\n",
    "    #         loss = loss_function(yhat, y)\n",
    "\n",
    "    #         opt.zero_grad()\n",
    "    #         loss.backward()\n",
    "    #         opt.step()\n",
    "    #     logger.info(f'Epoch:{epoch} loss is {loss.item()}')\n",
    "\n",
    "    # with open('model_state.pt', 'wb') as f:\n",
    "    #     save(clf.state_dict(), f)\n",
    "        \n",
    "\n"
   ]
  },
  {
   "cell_type": "code",
   "execution_count": 9,
   "id": "d0187455",
   "metadata": {},
   "outputs": [],
   "source": [
    "import torch\n",
    "device = torch.device(\"mps\" if torch.backends.mps.is_available() else \"cpu\")"
   ]
  },
  {
   "cell_type": "code",
   "execution_count": 10,
   "id": "0be4d19c",
   "metadata": {},
   "outputs": [
    {
     "name": "stdout",
     "output_type": "stream",
     "text": [
      "CPU architecture: arm64\n",
      "✅ ARM-based Mac detected (Apple Silicon)\n",
      "✅ MPS (Metal GPU backend) is available and will be used\n",
      "Tensor operation successful on: mps\n",
      "Result tensor shape: torch.Size([1000, 1000])\n"
     ]
    }
   ],
   "source": [
    "import platform\n",
    "import torch\n",
    "\n",
    "# Check CPU architecture\n",
    "arch = platform.machine()\n",
    "print(f\"CPU architecture: {arch}\")\n",
    "if \"arm\" in arch.lower() or \"aarch64\" in arch.lower():\n",
    "    print(\"✅ ARM-based Mac detected (Apple Silicon)\")\n",
    "else:\n",
    "    print(\"⚠️ Not an ARM-based Mac\")\n",
    "\n",
    "# Check for MPS (Apple Metal GPU backend)\n",
    "if torch.backends.mps.is_available():\n",
    "    device = torch.device(\"mps\")\n",
    "    print(\"✅ MPS (Metal GPU backend) is available and will be used\")\n",
    "else:\n",
    "    device = torch.device(\"cpu\")\n",
    "    print(\"⚠️ MPS not available, falling back to CPU\")\n",
    "\n",
    "# Simple test tensor operation\n",
    "x = torch.randn(1000, 1000, device=device)\n",
    "y = torch.randn(1000, 1000, device=device)\n",
    "z = x @ y  # matrix multiplication\n",
    "\n",
    "print(f\"Tensor operation successful on: {device}\")\n",
    "print(f\"Result tensor shape: {z.shape}\")"
   ]
  }
 ],
 "metadata": {
  "kernelspec": {
   "display_name": "3.13.2",
   "language": "python",
   "name": "python3"
  },
  "language_info": {
   "codemirror_mode": {
    "name": "ipython",
    "version": 3
   },
   "file_extension": ".py",
   "mimetype": "text/x-python",
   "name": "python",
   "nbconvert_exporter": "python",
   "pygments_lexer": "ipython3",
   "version": "3.13.2"
  }
 },
 "nbformat": 4,
 "nbformat_minor": 5
}

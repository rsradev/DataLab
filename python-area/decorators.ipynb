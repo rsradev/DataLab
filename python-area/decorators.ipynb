{
 "cells": [
  {
   "cell_type": "markdown",
   "metadata": {},
   "source": [
    "Function as first class citizen"
   ]
  },
  {
   "cell_type": "code",
   "execution_count": 1,
   "metadata": {},
   "outputs": [],
   "source": [
    "def outer():\n",
    "    def inner():\n",
    "        print(\"Inner function\")\n",
    "    inner()"
   ]
  },
  {
   "cell_type": "code",
   "execution_count": 3,
   "metadata": {},
   "outputs": [],
   "source": [
    "def power(exponent):\n",
    "    def innner(base):\n",
    "        return base ** exponent\n",
    "    \n",
    "    return innner"
   ]
  },
  {
   "cell_type": "code",
   "execution_count": 4,
   "metadata": {},
   "outputs": [
    {
     "data": {
      "text/plain": [
       "25"
      ]
     },
     "execution_count": 4,
     "metadata": {},
     "output_type": "execute_result"
    }
   ],
   "source": [
    "power_of_two = power(2)\n",
    "\n",
    "power_of_two(5)"
   ]
  },
  {
   "cell_type": "markdown",
   "metadata": {},
   "source": [
    "Decorators 101"
   ]
  },
  {
   "cell_type": "code",
   "execution_count": 8,
   "metadata": {},
   "outputs": [],
   "source": [
    "from functools import wraps"
   ]
  },
  {
   "cell_type": "code",
   "execution_count": 25,
   "metadata": {},
   "outputs": [
    {
     "name": "stdout",
     "output_type": "stream",
     "text": [
      "Dear,programmer\n",
      "Welcome to your new job as a programmer!\n",
      "Best regards \n",
      "from your new team lead\n",
      "Dear,programmer\n",
      "Welcome to your new job as a programmer!\n",
      "Best regards \n",
      "from your new killer\n"
     ]
    }
   ],
   "source": [
    "def email_decorator(from_who):\n",
    "    def _email_decorator(func):\n",
    "        @wraps(func)\n",
    "        def wrapper(*args, **kwargs):\n",
    "            print(f'Dear,{args[0]}')\n",
    "            func(*args, *kwargs)\n",
    "            print('Best regards ')\n",
    "            print(f'from your new {from_who}')\n",
    "        return wrapper\n",
    "    return _email_decorator\n",
    "\n",
    "if len(test) > 2:\n",
    "    from_who = 'menager'\n",
    "else:\n",
    "    from_who = 'tl' \n",
    "\n",
    "for x in test:\n",
    "\n",
    "    @email_decorator(from_who=x)\n",
    "    def greeting_message(job):\n",
    "        \"\"\"\n",
    "        Function displays a greeting message\n",
    "        \"\"\"\n",
    "        print(\n",
    "            f'Welcome to your new job as a {job}!'\n",
    "\n",
    "        )\n",
    "    greeting_message('programmer')"
   ]
  },
  {
   "cell_type": "code",
   "execution_count": 29,
   "metadata": {},
   "outputs": [],
   "source": [
    "from functools import wraps\n",
    "\n",
    "class EmailDecorator:\n",
    "    def __init__(self, from_who) -> None:\n",
    "        self.from_who = from_who\n",
    "        \n",
    "    def __call__(self, func):\n",
    "        @wraps(func)\n",
    "        def wrapper(*args, **kwargs):\n",
    "            print(f'Dear,{args[0]}')\n",
    "            func(*args, *kwargs)\n",
    "            print('Best regards ')\n",
    "            print(f'from your new {self.from_who}')\n",
    "        return wrapper            "
   ]
  },
  {
   "cell_type": "code",
   "execution_count": 30,
   "metadata": {},
   "outputs": [
    {
     "name": "stdout",
     "output_type": "stream",
     "text": [
      "Dear,programmer\n",
      "Welcome to your new job as a programmer!\n",
      "Best regards \n",
      "from your new team leader\n"
     ]
    }
   ],
   "source": [
    "@EmailDecorator(from_who='team leader')\n",
    "def greeting_message(job):\n",
    "    \"\"\"\n",
    "    Function displays a greeting message\n",
    "    \"\"\"\n",
    "    print(\n",
    "        f'Welcome to your new job as a {job}!'\n",
    "\n",
    "    )\n",
    "greeting_message('programmer')"
   ]
  },
  {
   "cell_type": "code",
   "execution_count": 34,
   "metadata": {},
   "outputs": [
    {
     "name": "stdout",
     "output_type": "stream",
     "text": [
      "Hello, I'm a MyClass instance\n"
     ]
    }
   ],
   "source": [
    "def add_speech(cls):\n",
    "    cls.speak = lambda ivan: f'Hello, I\\'m a {ivan.__class__.__name__} instance'\n",
    "    return cls\n",
    "@add_speech\n",
    "class MyClass:\n",
    "    pass\n",
    "\n",
    "obj = MyClass()\n",
    "\n",
    "print(obj.speak())"
   ]
  },
  {
   "cell_type": "code",
   "execution_count": null,
   "metadata": {},
   "outputs": [],
   "source": [
    "import time \n",
    "from functools import wraps\n",
    "from typing import Callable, ParamSpec, TypeVar\n",
    "\n",
    "UNITS = ('ns', 'us', 'ms', 's')\n",
    "\n",
    "P = ParamSpec(\"P\")\n",
    "R =TypeVar(\"R\")\n",
    "def timer(unit: str = \"ns\", *, precision: int=0) -> Callable[[Callable[P, R]], Callable[P, R]]:\n",
    "    def decorator(func: Callable[P, R]) -> Callable[P, R]:    \n",
    "        @wraps(func)\n",
    "        def wrapper(*args: P.args, **kwargs: P.kwargs) -> R:\n",
    "            start = time.perf_counter_ns()\n",
    "            result = func(*args, **kwargs)\n",
    "            delta = (time.perf_counter_ns() - start) / (1000 ** UNITS.index(unit))\n",
    "            print(f\"Function '{func.__name__}' took {delta:.{precision}f} {unit} to execute.\")\n",
    "            return result\n",
    "        \n",
    "        return wrapper\n",
    "\n",
    "    return decorator \n",
    "\n",
    "@timer(unit=\"ns\", precision=2)\n",
    "def factorial(n):\n",
    "    result = 1\n",
    "    for i in range(1, n + 1):\n",
    "        result *= i\n",
    "    return result"
   ]
  }
 ],
 "metadata": {
  "kernelspec": {
   "display_name": "3.11.2",
   "language": "python",
   "name": "python3"
  },
  "language_info": {
   "codemirror_mode": {
    "name": "ipython",
    "version": 3
   },
   "file_extension": ".py",
   "mimetype": "text/x-python",
   "name": "python",
   "nbconvert_exporter": "python",
   "pygments_lexer": "ipython3",
   "version": "3.11.2"
  }
 },
 "nbformat": 4,
 "nbformat_minor": 2
}

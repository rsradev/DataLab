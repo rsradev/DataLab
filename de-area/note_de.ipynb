{
 "cells": [
  {
   "cell_type": "markdown",
   "metadata": {
    "vscode": {
     "languageId": "plaintext"
    }
   },
   "source": [
    "### Functional requirements -> What systen do\n",
    "### Non functional -> How"
   ]
  },
  {
   "cell_type": "markdown",
   "metadata": {},
   "source": [
    "* Dimension  - identity vs attributes and slowly chengin vs fixed "
   ]
  },
  {
   "cell_type": "markdown",
   "metadata": {},
   "source": [
    "\n",
    "* Data modeling -> Transform the data into a structure that is easier to understand and faster to query"
   ]
  },
  {
   "cell_type": "markdown",
   "metadata": {},
   "source": [
    "* type of customers -> DA, DS(easy to query); DE(master data); C(dashboard)\n",
    "  * ML models\n",
    "  * MasterData -> Other DE depends on downstream"
   ]
  },
  {
   "cell_type": "code",
   "execution_count": null,
   "metadata": {},
   "outputs": [],
   "source": []
  },
  {
   "cell_type": "code",
   "execution_count": null,
   "metadata": {},
   "outputs": [],
   "source": []
  },
  {
   "cell_type": "code",
   "execution_count": null,
   "metadata": {},
   "outputs": [],
   "source": []
  },
  {
   "cell_type": "markdown",
   "metadata": {},
   "source": [
    "* Star schema -> fact table and dimenssions"
   ]
  },
  {
   "cell_type": "markdown",
   "metadata": {},
   "source": [
    "1. Dimensions are atrributes of an entity:\n",
    "    * slowly-changing( favorite food)\n",
    "    * fixed (birthday)\n",
    "\n",
    "    * OLTP(Online Transaction Processing) -> optimizes for low-latency low-volume queries\n",
    "    * OLAP(Online Analytical Processing) -> Optimizes for large, group by queris, minimizes joins\n"
   ]
  }
 ],
 "metadata": {
  "kernelspec": {
   "display_name": "3.11.2",
   "language": "python",
   "name": "python3"
  },
  "language_info": {
   "codemirror_mode": {
    "name": "ipython",
    "version": 3
   },
   "file_extension": ".py",
   "mimetype": "text/x-python",
   "name": "python",
   "nbconvert_exporter": "python",
   "pygments_lexer": "ipython3",
   "version": "3.11.2"
  }
 },
 "nbformat": 4,
 "nbformat_minor": 2
}

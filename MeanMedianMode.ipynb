{
 "cells": [
  {
   "cell_type": "markdown",
   "metadata": {},
   "source": [
    "# Mean, Median, Mode, and introducing NumPy"
   ]
  },
  {
   "cell_type": "markdown",
   "metadata": {},
   "source": [
    "## Mean vs. Median"
   ]
  },
  {
   "cell_type": "markdown",
   "metadata": {},
   "source": [
    "Let's create some fake income data, centered around 27,000 with a normal distribution and standard deviation of 15,000, with 10,000 data points. (We'll discuss those terms more later, if you're not familiar with them.)\n",
    "\n",
    "Then, compute the mean (average) - it should be close to 27,000:"
   ]
  },
  {
   "cell_type": "code",
   "execution_count": 14,
   "metadata": {},
   "outputs": [
    {
     "data": {
      "text/plain": [
       "np.float64(27043.556015466987)"
      ]
     },
     "execution_count": 14,
     "metadata": {},
     "output_type": "execute_result"
    }
   ],
   "source": [
    "import numpy as np\n",
    "\n",
    "incomes = np.random.normal(27000, 15000, 10000)\n",
    "np.mean(incomes)"
   ]
  },
  {
   "cell_type": "markdown",
   "metadata": {},
   "source": [
    "We can segment the income data into 50 buckets, and plot it as a histogram:"
   ]
  },
  {
   "cell_type": "code",
   "execution_count": 15,
   "metadata": {},
   "outputs": [
    {
     "data": {
      "image/png": "[encoded data removed]",
      "text/plain": [
       "<Figure size 640x480 with 1 Axes>"
      ]
     },
     "metadata": {},
     "output_type": "display_data"
    }
   ],
   "source": [
    "%matplotlib inline\n",
    "import matplotlib.pyplot as plt\n",
    "plt.hist(incomes, 100)\n",
    "plt.show()"
   ]
  },
  {
   "cell_type": "markdown",
   "metadata": {},
   "source": [
    "Now compute the median - since we have a nice, even distribution it too should be close to 27,000:"
   ]
  },
  {
   "cell_type": "code",
   "execution_count": 18,
   "metadata": {},
   "outputs": [
    {
     "data": {
      "text/plain": [
       "np.float64(127030.85293017398)"
      ]
     },
     "execution_count": 18,
     "metadata": {},
     "output_type": "execute_result"
    }
   ],
   "source": [
    "np.mean(incomes)"
   ]
  },
  {
   "cell_type": "markdown",
   "metadata": {},
   "source": [
    "Now we'll add Jeff Bezos into the mix. Darn income inequality!"
   ]
  },
  {
   "cell_type": "code",
   "execution_count": 16,
   "metadata": {},
   "outputs": [],
   "source": [
    "incomes = np.append(incomes, [1000000000])"
   ]
  },
  {
   "cell_type": "markdown",
   "metadata": {},
   "source": [
    "The median won't change much, but the mean does:"
   ]
  },
  {
   "cell_type": "code",
   "execution_count": 15,
   "metadata": {},
   "outputs": [
    {
     "data": {
      "text/plain": [
       "np.float64(26923.003838417346)"
      ]
     },
     "execution_count": 15,
     "metadata": {},
     "output_type": "execute_result"
    }
   ],
   "source": [
    "np.median(incomes)"
   ]
  },
  {
   "cell_type": "code",
   "execution_count": 16,
   "metadata": {},
   "outputs": [
    {
     "data": {
      "text/plain": [
       "np.float64(126774.88615939849)"
      ]
     },
     "execution_count": 16,
     "metadata": {},
     "output_type": "execute_result"
    }
   ],
   "source": [
    "np.mean(incomes)"
   ]
  },
  {
   "cell_type": "markdown",
   "metadata": {},
   "source": [
    "## Mode"
   ]
  },
  {
   "cell_type": "markdown",
   "metadata": {},
   "source": [
    "Next, let's generate some fake age data for 500 people:"
   ]
  },
  {
   "cell_type": "code",
   "execution_count": 21,
   "metadata": {},
   "outputs": [
    {
     "data": {
      "text/plain": [
       "array([65, 52, 51, 80, 64, 81, 32, 32, 64, 31, 39, 87, 51, 62, 64, 58, 71,\n",
       "       78, 56, 39, 41, 61, 74, 39, 50, 55, 85, 28, 20, 83, 32, 87, 30, 20,\n",
       "       75, 74, 80, 57, 70, 30, 43, 62, 68, 50, 27, 88, 75, 40, 40, 43, 86,\n",
       "       89, 58, 62, 18, 71, 60, 30, 34, 47, 74, 35, 67, 65, 89, 51, 38, 50,\n",
       "       42, 57, 55, 80, 20, 80, 81, 56, 77, 24, 51, 62, 89, 72, 51, 40, 87,\n",
       "       59, 64, 29, 28, 29, 25, 20, 69, 56, 40, 26, 44, 22, 67, 23, 69, 89,\n",
       "       49, 67, 34, 21, 64, 27, 65, 81, 71, 65, 69, 70, 21, 77, 56, 71, 75,\n",
       "       48, 87, 69, 83, 89, 39, 77, 24, 77, 88, 87, 38, 27, 40, 20, 53, 62,\n",
       "       37, 41, 53, 33, 38, 78, 57, 80, 33, 74, 49, 87, 58, 85, 44, 26, 19,\n",
       "       79, 83, 52, 66, 29, 76, 87, 69, 86, 72, 46, 79, 81, 37, 28, 76, 55,\n",
       "       30, 46, 30, 25, 43, 35, 19, 45, 49, 69, 40, 88, 23, 51, 88, 47, 84,\n",
       "       38, 18, 78, 72, 25, 88, 23, 60, 39, 32, 36, 63, 48, 79, 58, 81, 39,\n",
       "       83, 59, 38, 19, 27, 35, 49, 69, 24, 44, 24, 48, 59, 81, 24, 83, 68,\n",
       "       72, 22, 53, 77, 54, 36, 25, 55, 89, 28, 22, 80, 55, 74, 81, 85, 65,\n",
       "       80, 77, 48, 60, 47, 43, 79, 81, 84, 26, 77, 71, 43, 54, 28, 50, 78,\n",
       "       20, 33, 67, 62, 51, 48, 43, 48, 81, 59, 62, 31, 45, 61, 23, 72, 62,\n",
       "       44, 29, 74, 18, 42, 85, 30, 62, 61, 85, 77, 82, 55, 80, 39, 53, 64,\n",
       "       35, 28, 21, 18, 63, 20, 73, 88, 67, 28, 85, 87, 38, 89, 50, 47, 23,\n",
       "       79, 50, 32, 57, 50, 68, 80, 38, 87, 21, 73, 23, 39, 49, 68, 89, 37,\n",
       "       89, 54, 21, 28, 22, 61, 68, 41, 59, 59, 59, 43, 32, 21, 72, 52, 84,\n",
       "       33, 76, 24, 48, 27, 25, 45, 37, 65, 26, 66, 43, 77, 66, 51, 86, 27,\n",
       "       64, 81, 80, 46, 59, 89, 24, 64, 20, 39, 58, 66, 38, 39, 27, 33, 80,\n",
       "       80, 31, 35, 64, 82, 55, 34, 76, 20, 72, 68, 60, 41, 79, 71, 64, 30,\n",
       "       82, 87, 64, 62, 45, 52, 50, 24, 19, 46, 43, 67, 55, 27, 75, 74, 42,\n",
       "       54, 85, 75, 65, 72, 61, 83, 62, 59, 24, 63, 43, 18, 35, 56, 49, 70,\n",
       "       74, 77, 49, 47, 57, 27, 51, 56, 82, 80, 83, 62, 27, 56, 30, 30, 39,\n",
       "       25, 38, 39, 88, 88, 58, 19, 43, 67, 62, 48, 33, 73, 75, 87, 41, 87,\n",
       "       36, 73, 42, 35, 29, 50, 32, 20, 30, 49, 50, 68, 70, 73, 67, 25, 76,\n",
       "       88, 77, 65, 78, 86, 82, 35, 84, 59, 39, 72, 69, 85, 89, 75, 85, 24,\n",
       "       39, 57, 79, 84, 37, 84, 18])"
      ]
     },
     "execution_count": 21,
     "metadata": {},
     "output_type": "execute_result"
    }
   ],
   "source": [
    "ages = np.random.randint(18, high=90, size=500)\n",
    "ages"
   ]
  },
  {
   "cell_type": "code",
   "execution_count": 22,
   "metadata": {},
   "outputs": [
    {
     "data": {
      "text/plain": [
       "ModeResult(mode=np.int64(39), count=np.int64(14))"
      ]
     },
     "execution_count": 22,
     "metadata": {},
     "output_type": "execute_result"
    }
   ],
   "source": [
    "from scipy import stats\n",
    "stats.mode(ages)"
   ]
  },
  {
   "cell_type": "code",
   "execution_count": null,
   "metadata": {},
   "outputs": [],
   "source": []
  }
 ],
 "metadata": {
  "kernelspec": {
   "display_name": "3.13.1",
   "language": "python",
   "name": "python3"
  },
  "language_info": {
   "codemirror_mode": {
    "name": "ipython",
    "version": 3
   },
   "file_extension": ".py",
   "mimetype": "text/x-python",
   "name": "python",
   "nbconvert_exporter": "python",
   "pygments_lexer": "ipython3",
   "version": "3.13.1"
  }
 },
 "nbformat": 4,
 "nbformat_minor": 1
}
